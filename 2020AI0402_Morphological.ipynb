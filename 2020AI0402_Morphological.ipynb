{
  "nbformat": 4,
  "nbformat_minor": 0,
  "metadata": {
    "colab": {
      "name": "2020AI0402-Morphological.ipynb",
      "provenance": [],
      "authorship_tag": "ABX9TyN5OGg2Efyhp3ocZ2RtJW+T",
      "include_colab_link": true
    },
    "kernelspec": {
      "name": "python3",
      "display_name": "Python 3"
    }
  },
  "cells": [
    {
      "cell_type": "markdown",
      "metadata": {
        "id": "view-in-github",
        "colab_type": "text"
      },
      "source": [
        "<a href=\"https://colab.research.google.com/github/aso1801029/AI_teach2020/blob/master/2020AI0402_Morphological.ipynb\" target=\"_parent\"><img src=\"https://colab.research.google.com/assets/colab-badge.svg\" alt=\"Open In Colab\"/></a>"
      ]
    },
    {
      "cell_type": "markdown",
      "metadata": {
        "id": "0f45HV_3z8RF"
      },
      "source": [
        "### 形態素解析（MorphologicalAnalysis）\n",
        "形態素解析ライブラリMeCabのインストール"
      ]
    },
    {
      "cell_type": "code",
      "metadata": {
        "id": "WJYeM9pBz0qK"
      },
      "source": [
        "# 形態素解析ライブラリMeCabと辞書（meCab-ipadic-NEologd）のインストール\n",
        "!apt-get -q -y install sudo file mecab libmecab-dev mecab-ipadic-utf8 git curl python-mecab > /dev/null\n",
        "!pip install mecab-python3 > /dev/null\n",
        "\n",
        "# MeCabの実行時の指定パスをインストールパスにリンクさせる\n",
        "# シンボリックリンク（/etc/mecabrc を /usr/local/etc/mecabrc で参照できるようにする）\n",
        "!ln -s /etc/mecabrc /usr/local/etc/mecabrc"
      ],
      "execution_count": null,
      "outputs": []
    },
    {
      "cell_type": "markdown",
      "metadata": {
        "id": "lB_nD2osz_Zc"
      },
      "source": [
        "### まずMeCabのデフォルト辞書で文章を解析する"
      ]
    },
    {
      "cell_type": "code",
      "metadata": {
        "colab": {
          "base_uri": "https://localhost:8080/",
          "height": 372
        },
        "id": "lj4vr0GL0CRW",
        "outputId": "35d2110d-f80c-4059-d636-50df9abbaaff"
      },
      "source": [
        "# インストールしたMeCabをimport\n",
        "import MeCab\n",
        "# MeCabオブジェクトの生成（デフォルト辞書で）\n",
        "tagger = MeCab.Tagger()\n",
        "# 形態素解析を実行させる\n",
        "result = tagger.parse(\"メイが恋ダンスを踊っている。\")\n",
        "# 解析結果を表示\n",
        "print( result )"
      ],
      "execution_count": 1,
      "outputs": [
        {
          "output_type": "error",
          "ename": "ModuleNotFoundError",
          "evalue": "ignored",
          "traceback": [
            "\u001b[0;31m---------------------------------------------------------------------------\u001b[0m",
            "\u001b[0;31mModuleNotFoundError\u001b[0m                       Traceback (most recent call last)",
            "\u001b[0;32m<ipython-input-1-cc6cd30ee8c6>\u001b[0m in \u001b[0;36m<module>\u001b[0;34m()\u001b[0m\n\u001b[1;32m      1\u001b[0m \u001b[0;31m# インストールしたMeCabをimport\u001b[0m\u001b[0;34m\u001b[0m\u001b[0;34m\u001b[0m\u001b[0;34m\u001b[0m\u001b[0m\n\u001b[0;32m----> 2\u001b[0;31m \u001b[0;32mimport\u001b[0m \u001b[0mMeCab\u001b[0m\u001b[0;34m\u001b[0m\u001b[0;34m\u001b[0m\u001b[0m\n\u001b[0m\u001b[1;32m      3\u001b[0m \u001b[0;31m# MeCabオブジェクトの生成（デフォルト辞書で）\u001b[0m\u001b[0;34m\u001b[0m\u001b[0;34m\u001b[0m\u001b[0;34m\u001b[0m\u001b[0m\n\u001b[1;32m      4\u001b[0m \u001b[0mtagger\u001b[0m \u001b[0;34m=\u001b[0m \u001b[0mMeCab\u001b[0m\u001b[0;34m.\u001b[0m\u001b[0mTagger\u001b[0m\u001b[0;34m(\u001b[0m\u001b[0;34m)\u001b[0m\u001b[0;34m\u001b[0m\u001b[0;34m\u001b[0m\u001b[0m\n\u001b[1;32m      5\u001b[0m \u001b[0;31m# 形態素解析を実行させる\u001b[0m\u001b[0;34m\u001b[0m\u001b[0;34m\u001b[0m\u001b[0;34m\u001b[0m\u001b[0m\n",
            "\u001b[0;31mModuleNotFoundError\u001b[0m: No module named 'MeCab'",
            "",
            "\u001b[0;31m---------------------------------------------------------------------------\u001b[0;32m\nNOTE: If your import is failing due to a missing package, you can\nmanually install dependencies using either !pip or !apt.\n\nTo view examples of installing some common dependencies, click the\n\"Open Examples\" button below.\n\u001b[0;31m---------------------------------------------------------------------------\u001b[0m\n"
          ]
        }
      ]
    },
    {
      "cell_type": "markdown",
      "metadata": {
        "id": "qkwLLcdA0EmN"
      },
      "source": [
        "### 最新の情報が入った辞書（ipadic-neologd）で形態素解析してみる"
      ]
    },
    {
      "cell_type": "code",
      "metadata": {
        "colab": {
          "base_uri": "https://localhost:8080/"
        },
        "id": "qaJivpd90ENw",
        "outputId": "64d6cda9-fc8e-42d5-aa17-eb3a59851253"
      },
      "source": [
        "# github上からipadic-neologdの最新版をダウンロード\n",
        "! git clone --depth 1 https://github.com/neologd/mecab-ipadic-neologd.git > /dev/null\n",
        "# ipadic-neologd のインストール\n",
        "!echo yes | mecab-ipadic-neologd/bin/install-mecab-ipadic-neologd -n > /dev/null 2>&1"
      ],
      "execution_count": 2,
      "outputs": [
        {
          "output_type": "stream",
          "text": [
            "Cloning into 'mecab-ipadic-neologd'...\n",
            "remote: Enumerating objects: 75, done.\u001b[K\n",
            "remote: Counting objects: 100% (75/75), done.\u001b[K\n",
            "remote: Compressing objects: 100% (74/74), done.\u001b[K\n",
            "remote: Total 75 (delta 5), reused 54 (delta 0), pack-reused 0\u001b[K\n",
            "Unpacking objects: 100% (75/75), done.\n"
          ],
          "name": "stdout"
        }
      ]
    },
    {
      "cell_type": "markdown",
      "metadata": {
        "id": "dJAB2nNU0ShK"
      },
      "source": [
        "### 辞書のインストール済みディレクトリを表示確認"
      ]
    },
    {
      "cell_type": "code",
      "metadata": {
        "colab": {
          "base_uri": "https://localhost:8080/"
        },
        "id": "9_FWfy9e0PxB",
        "outputId": "1d4b795c-d13a-4843-e103-4e98ab739d41"
      },
      "source": [
        "# 辞書のインストール済みディレクトリの場所を表示\n",
        "!echo `mecab-config --dicdir`\"/mecab-ipadic-neologd\""
      ],
      "execution_count": 3,
      "outputs": [
        {
          "output_type": "stream",
          "text": [
            "/bin/bash: mecab-config: command not found\n",
            "/mecab-ipadic-neologd\n"
          ],
          "name": "stdout"
        }
      ]
    },
    {
      "cell_type": "markdown",
      "metadata": {
        "id": "0W5tme_L0cTw"
      },
      "source": [
        "### 辞書（ipadic-neologd）の場所を指定してMeCabで形態素解析"
      ]
    },
    {
      "cell_type": "code",
      "metadata": {
        "colab": {
          "base_uri": "https://localhost:8080/",
          "height": 372
        },
        "id": "UqRgYmEg0ZpC",
        "outputId": "a99b982a-5d97-41cf-89c1-b8e1ddc7835b"
      },
      "source": [
        "import MeCab\n",
        "# mecab-ipadic-NEologd辞書を指定して、MeCabオブジェクトの生成\n",
        "path_neologd = \"/usr/lib/x86_64-linux-gnu/mecab/dic/mecab-ipadic-neologd\"\n",
        "tagger = MeCab.Tagger( \"-d \" + path_neologd )\n",
        "# オブジェクトインスタンスで形態素解析を行う\n",
        "result = tagger.parse( \"メイが恋ダンスを踊っている。\" )\n",
        "print( result )"
      ],
      "execution_count": 4,
      "outputs": [
        {
          "output_type": "error",
          "ename": "ModuleNotFoundError",
          "evalue": "ignored",
          "traceback": [
            "\u001b[0;31m---------------------------------------------------------------------------\u001b[0m",
            "\u001b[0;31mModuleNotFoundError\u001b[0m                       Traceback (most recent call last)",
            "\u001b[0;32m<ipython-input-4-b2dc76ad900b>\u001b[0m in \u001b[0;36m<module>\u001b[0;34m()\u001b[0m\n\u001b[0;32m----> 1\u001b[0;31m \u001b[0;32mimport\u001b[0m \u001b[0mMeCab\u001b[0m\u001b[0;34m\u001b[0m\u001b[0;34m\u001b[0m\u001b[0m\n\u001b[0m\u001b[1;32m      2\u001b[0m \u001b[0;31m# mecab-ipadic-NEologd辞書を指定して、MeCabオブジェクトの生成\u001b[0m\u001b[0;34m\u001b[0m\u001b[0;34m\u001b[0m\u001b[0;34m\u001b[0m\u001b[0m\n\u001b[1;32m      3\u001b[0m \u001b[0mpath_neologd\u001b[0m \u001b[0;34m=\u001b[0m \u001b[0;34m\"/usr/lib/x86_64-linux-gnu/mecab/dic/mecab-ipadic-neologd\"\u001b[0m\u001b[0;34m\u001b[0m\u001b[0;34m\u001b[0m\u001b[0m\n\u001b[1;32m      4\u001b[0m \u001b[0mtagger\u001b[0m \u001b[0;34m=\u001b[0m \u001b[0mMeCab\u001b[0m\u001b[0;34m.\u001b[0m\u001b[0mTagger\u001b[0m\u001b[0;34m(\u001b[0m \u001b[0;34m\"-d \"\u001b[0m \u001b[0;34m+\u001b[0m \u001b[0mpath_neologd\u001b[0m \u001b[0;34m)\u001b[0m\u001b[0;34m\u001b[0m\u001b[0;34m\u001b[0m\u001b[0m\n\u001b[1;32m      5\u001b[0m \u001b[0;31m# オブジェクトインスタンスで形態素解析を行う\u001b[0m\u001b[0;34m\u001b[0m\u001b[0;34m\u001b[0m\u001b[0;34m\u001b[0m\u001b[0m\n",
            "\u001b[0;31mModuleNotFoundError\u001b[0m: No module named 'MeCab'",
            "",
            "\u001b[0;31m---------------------------------------------------------------------------\u001b[0;32m\nNOTE: If your import is failing due to a missing package, you can\nmanually install dependencies using either !pip or !apt.\n\nTo view examples of installing some common dependencies, click the\n\"Open Examples\" button below.\n\u001b[0;31m---------------------------------------------------------------------------\u001b[0m\n"
          ]
        }
      ]
    },
    {
      "cell_type": "markdown",
      "metadata": {
        "id": "e_RSabvN0kqK"
      },
      "source": [
        "### 形態素解析結果を品詞分析して名詞、動詞、形容詞だけを抜き出すことでストップワードを除外する"
      ]
    },
    {
      "cell_type": "code",
      "metadata": {
        "colab": {
          "base_uri": "https://localhost:8080/",
          "height": 372
        },
        "id": "ZtstDRE70gI4",
        "outputId": "99cf6bcb-b365-435b-d1b8-d56c3cc799e2"
      },
      "source": [
        "import MeCab\n",
        "# mecab-ipadic-NEologd辞書を指定して、MeCabオブジェクトの生成\n",
        "path_neologd = \"/usr/lib/x86_64-linux-gnu/mecab/dic/mecab-ipadic-neologd\"\n",
        "tagger = MeCab.Tagger( \"-d\" + path_neologd )\n",
        "# 形態素解析して、結果（リスト）を取得\n",
        "node = tagger.parseToNode(\"メイが恋ダンスを踊っている。\")\n",
        "print( node )\n",
        "\n",
        "result = [] # 抽出結果を登録する配列\n",
        "# リストのリンクNextがNoneになるまでループ処理\n",
        "while node is not None:\n",
        "  # 品詞情報取得 node詳細の先頭（品詞情報）だけを抜き出す\n",
        "  hinshi = node.feature.split(\",\")[0]\n",
        "  if hinshi in [\"名詞\"]:\n",
        "    # 名詞だったら、表層系を結果配列 result に追加\n",
        "    result.append( node.surface )\n",
        "  elif hinshi in [\"動詞\", \"形容詞\"]:\n",
        "    # 動詞、形容詞だったら、node形態素情報から原形情報(index6番目)をresult配列に追加\n",
        "    result.append( node.feature.split(\",\")[6] )\n",
        "  node = node.next\n",
        "print( result )"
      ],
      "execution_count": 5,
      "outputs": [
        {
          "output_type": "error",
          "ename": "ModuleNotFoundError",
          "evalue": "ignored",
          "traceback": [
            "\u001b[0;31m---------------------------------------------------------------------------\u001b[0m",
            "\u001b[0;31mModuleNotFoundError\u001b[0m                       Traceback (most recent call last)",
            "\u001b[0;32m<ipython-input-5-9af8162a61e6>\u001b[0m in \u001b[0;36m<module>\u001b[0;34m()\u001b[0m\n\u001b[0;32m----> 1\u001b[0;31m \u001b[0;32mimport\u001b[0m \u001b[0mMeCab\u001b[0m\u001b[0;34m\u001b[0m\u001b[0;34m\u001b[0m\u001b[0m\n\u001b[0m\u001b[1;32m      2\u001b[0m \u001b[0;31m# mecab-ipadic-NEologd辞書を指定して、MeCabオブジェクトの生成\u001b[0m\u001b[0;34m\u001b[0m\u001b[0;34m\u001b[0m\u001b[0;34m\u001b[0m\u001b[0m\n\u001b[1;32m      3\u001b[0m \u001b[0mpath_neologd\u001b[0m \u001b[0;34m=\u001b[0m \u001b[0;34m\"/usr/lib/x86_64-linux-gnu/mecab/dic/mecab-ipadic-neologd\"\u001b[0m\u001b[0;34m\u001b[0m\u001b[0;34m\u001b[0m\u001b[0m\n\u001b[1;32m      4\u001b[0m \u001b[0mtagger\u001b[0m \u001b[0;34m=\u001b[0m \u001b[0mMeCab\u001b[0m\u001b[0;34m.\u001b[0m\u001b[0mTagger\u001b[0m\u001b[0;34m(\u001b[0m \u001b[0;34m\"-d\"\u001b[0m \u001b[0;34m+\u001b[0m \u001b[0mpath_neologd\u001b[0m \u001b[0;34m)\u001b[0m\u001b[0;34m\u001b[0m\u001b[0;34m\u001b[0m\u001b[0m\n\u001b[1;32m      5\u001b[0m \u001b[0;31m# 形態素解析して、結果（リスト）を取得\u001b[0m\u001b[0;34m\u001b[0m\u001b[0;34m\u001b[0m\u001b[0;34m\u001b[0m\u001b[0m\n",
            "\u001b[0;31mModuleNotFoundError\u001b[0m: No module named 'MeCab'",
            "",
            "\u001b[0;31m---------------------------------------------------------------------------\u001b[0;32m\nNOTE: If your import is failing due to a missing package, you can\nmanually install dependencies using either !pip or !apt.\n\nTo view examples of installing some common dependencies, click the\n\"Open Examples\" button below.\n\u001b[0;31m---------------------------------------------------------------------------\u001b[0m\n"
          ]
        }
      ]
    },
    {
      "cell_type": "code",
      "metadata": {
        "id": "uUubdzQ60n8c"
      },
      "source": [
        ""
      ],
      "execution_count": null,
      "outputs": []
    }
  ]
}