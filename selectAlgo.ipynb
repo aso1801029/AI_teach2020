{
  "nbformat": 4,
  "nbformat_minor": 0,
  "metadata": {
    "colab": {
      "name": "selectAlgo.ipynb",
      "provenance": [],
      "authorship_tag": "ABX9TyNlwy4AJMoxRGI3M+jNqbpX",
      "include_colab_link": true
    },
    "kernelspec": {
      "name": "python3",
      "display_name": "Python 3"
    }
  },
  "cells": [
    {
      "cell_type": "markdown",
      "metadata": {
        "id": "view-in-github",
        "colab_type": "text"
      },
      "source": [
        "<a href=\"https://colab.research.google.com/github/aso1801029/AI_teach2020/blob/master/selectAlgo.ipynb\" target=\"_parent\"><img src=\"https://colab.research.google.com/assets/colab-badge.svg\" alt=\"Open In Colab\"/></a>"
      ]
    },
    {
      "cell_type": "markdown",
      "metadata": {
        "id": "91N21kYnhUCD"
      },
      "source": [
        "### sklearnでエラーが出るので、前のバージョンを入れなおす"
      ]
    },
    {
      "cell_type": "code",
      "metadata": {
        "id": "k_c19GAHhLHF"
      },
      "source": [
        "# ## 現在のscikit-leran えおcolabのVMからアンインストール\n",
        "# !pip uninstall scikit-learn\n",
        "# ## 前のバージョンを指定してVMにインストール\n",
        "# !pip install scikit-learn==0.20 --ignore-installed"
      ],
      "execution_count": 1,
      "outputs": []
    },
    {
      "cell_type": "markdown",
      "metadata": {
        "id": "VaaZYdTvhdGt"
      },
      "source": [
        "### all_estimators()でループして各種のアルゴリズムで学習させ、比較する"
      ]
    },
    {
      "cell_type": "code",
      "metadata": {
        "id": "xDyfafZ2hX8d",
        "outputId": "c8914cb3-238a-4514-909d-abc6bc762c4a",
        "colab": {
          "base_uri": "https://localhost:8080/"
        }
      },
      "source": [
        "# ライブラリの読み込み\n",
        "import pandas as pd\n",
        "# 学習データとテスト検証用データを分割するライブラリ\n",
        "from sklearn.model_selection import train_test_split\n",
        "# 正解率を算出するライブラリ\n",
        "from sklearn.metrics import accuracy_score\n",
        "# all_estimators(推定期のすべてを利用できるようにする)\n",
        "from sklearn.utils.testing import all_estimators\n",
        "# 警告クラス\n",
        "import warnings"
      ],
      "execution_count": 2,
      "outputs": [
        {
          "output_type": "stream",
          "text": [
            "/usr/local/lib/python3.6/dist-packages/sklearn/utils/deprecation.py:144: FutureWarning: The sklearn.utils.testing module is  deprecated in version 0.22 and will be removed in version 0.24. The corresponding classes / functions should instead be imported from sklearn.utils. Anything that cannot be imported from sklearn.utils is now part of the private API.\n",
            "  warnings.warn(message, FutureWarning)\n"
          ],
          "name": "stderr"
        }
      ]
    },
    {
      "cell_type": "markdown",
      "metadata": {
        "id": "RIiGwTVahkcD"
      },
      "source": [
        "### WEBからアヤメのデータを読み込む"
      ]
    },
    {
      "cell_type": "code",
      "metadata": {
        "id": "QF9BDNjIhf8i",
        "outputId": "70487f2b-5e97-486d-e50f-0baab4b09487",
        "colab": {
          "base_uri": "https://localhost:8080/",
          "height": 204
        }
      },
      "source": [
        "# urlリンクから読み込むライブラリ\n",
        "import urllib.request as req\n",
        "# url用の文字列変数を定義\n",
        "url = \"https://raw.githubusercontent.com/pandas-dev/pandas/master/pandas/tests/io/data/csv/iris.csv\"\n",
        "# リンクから保存するためのファイルを定義\n",
        "savefile = \"iris.csv\"\n",
        "# requestクラスを使ってurlからでーたをsavefileへコピーして保存\n",
        "req.urlretrieve(url, savefile)\n",
        "# pandasのread_csvメソッドを使ってCSVファイルを読み込む\n",
        "iris_data = pd.read_csv(savefile, encoding=\"utf-8\")\n",
        "iris_data.head()"
      ],
      "execution_count": 3,
      "outputs": [
        {
          "output_type": "execute_result",
          "data": {
            "text/html": [
              "<div>\n",
              "<style scoped>\n",
              "    .dataframe tbody tr th:only-of-type {\n",
              "        vertical-align: middle;\n",
              "    }\n",
              "\n",
              "    .dataframe tbody tr th {\n",
              "        vertical-align: top;\n",
              "    }\n",
              "\n",
              "    .dataframe thead th {\n",
              "        text-align: right;\n",
              "    }\n",
              "</style>\n",
              "<table border=\"1\" class=\"dataframe\">\n",
              "  <thead>\n",
              "    <tr style=\"text-align: right;\">\n",
              "      <th></th>\n",
              "      <th>SepalLength</th>\n",
              "      <th>SepalWidth</th>\n",
              "      <th>PetalLength</th>\n",
              "      <th>PetalWidth</th>\n",
              "      <th>Name</th>\n",
              "    </tr>\n",
              "  </thead>\n",
              "  <tbody>\n",
              "    <tr>\n",
              "      <th>0</th>\n",
              "      <td>5.1</td>\n",
              "      <td>3.5</td>\n",
              "      <td>1.4</td>\n",
              "      <td>0.2</td>\n",
              "      <td>Iris-setosa</td>\n",
              "    </tr>\n",
              "    <tr>\n",
              "      <th>1</th>\n",
              "      <td>4.9</td>\n",
              "      <td>3.0</td>\n",
              "      <td>1.4</td>\n",
              "      <td>0.2</td>\n",
              "      <td>Iris-setosa</td>\n",
              "    </tr>\n",
              "    <tr>\n",
              "      <th>2</th>\n",
              "      <td>4.7</td>\n",
              "      <td>3.2</td>\n",
              "      <td>1.3</td>\n",
              "      <td>0.2</td>\n",
              "      <td>Iris-setosa</td>\n",
              "    </tr>\n",
              "    <tr>\n",
              "      <th>3</th>\n",
              "      <td>4.6</td>\n",
              "      <td>3.1</td>\n",
              "      <td>1.5</td>\n",
              "      <td>0.2</td>\n",
              "      <td>Iris-setosa</td>\n",
              "    </tr>\n",
              "    <tr>\n",
              "      <th>4</th>\n",
              "      <td>5.0</td>\n",
              "      <td>3.6</td>\n",
              "      <td>1.4</td>\n",
              "      <td>0.2</td>\n",
              "      <td>Iris-setosa</td>\n",
              "    </tr>\n",
              "  </tbody>\n",
              "</table>\n",
              "</div>"
            ],
            "text/plain": [
              "   SepalLength  SepalWidth  PetalLength  PetalWidth         Name\n",
              "0          5.1         3.5          1.4         0.2  Iris-setosa\n",
              "1          4.9         3.0          1.4         0.2  Iris-setosa\n",
              "2          4.7         3.2          1.3         0.2  Iris-setosa\n",
              "3          4.6         3.1          1.5         0.2  Iris-setosa\n",
              "4          5.0         3.6          1.4         0.2  Iris-setosa"
            ]
          },
          "metadata": {
            "tags": []
          },
          "execution_count": 3
        }
      ]
    },
    {
      "cell_type": "markdown",
      "metadata": {
        "id": "qIPsLWF1hp96"
      },
      "source": [
        "### アヤメデータを目的変数：ｙと説明変数：ｘに分類する"
      ]
    },
    {
      "cell_type": "code",
      "metadata": {
        "id": "gcjJ8AQlhniN",
        "outputId": "8a206dee-0e5f-49b8-c19a-2cda355fa338",
        "colab": {
          "base_uri": "https://localhost:8080/"
        }
      },
      "source": [
        "y = iris_data.loc[:, \"Name\"] # 目的変数\n",
        "x = iris_data.loc[:, [\"SepalLength\", \"SepalWidth\", \"PetalLength\", \"PetalWidth\"]] # 説明変数\n",
        "\n",
        "print( y.head() )\n",
        "print( x.head() )"
      ],
      "execution_count": 4,
      "outputs": [
        {
          "output_type": "stream",
          "text": [
            "0    Iris-setosa\n",
            "1    Iris-setosa\n",
            "2    Iris-setosa\n",
            "3    Iris-setosa\n",
            "4    Iris-setosa\n",
            "Name: Name, dtype: object\n",
            "   SepalLength  SepalWidth  PetalLength  PetalWidth\n",
            "0          5.1         3.5          1.4         0.2\n",
            "1          4.9         3.0          1.4         0.2\n",
            "2          4.7         3.2          1.3         0.2\n",
            "3          4.6         3.1          1.5         0.2\n",
            "4          5.0         3.6          1.4         0.2\n"
          ],
          "name": "stdout"
        }
      ]
    },
    {
      "cell_type": "code",
      "metadata": {
        "id": "DdkuliyRhtCj",
        "outputId": "fe06d255-c009-417f-a116-102fac56fcbc",
        "colab": {
          "base_uri": "https://localhost:8080/"
        }
      },
      "source": [
        "# 学習用データ（train)とテスト検証用データ（test）に分離\n",
        "x_train, x_test, y_train, y_test = train_test_split(x, y, test_size=0.2, train_size=0.8, shuffle=True)\n",
        "print(x_train.head())\n",
        "print(x_train.head())\n",
        "print(x_test.head())"
      ],
      "execution_count": 5,
      "outputs": [
        {
          "output_type": "stream",
          "text": [
            "     SepalLength  SepalWidth  PetalLength  PetalWidth\n",
            "52           6.9         3.1          4.9         1.5\n",
            "122          7.7         2.8          6.7         2.0\n",
            "117          7.7         3.8          6.7         2.2\n",
            "104          6.5         3.0          5.8         2.2\n",
            "144          6.7         3.3          5.7         2.5\n",
            "     SepalLength  SepalWidth  PetalLength  PetalWidth\n",
            "52           6.9         3.1          4.9         1.5\n",
            "122          7.7         2.8          6.7         2.0\n",
            "117          7.7         3.8          6.7         2.2\n",
            "104          6.5         3.0          5.8         2.2\n",
            "144          6.7         3.3          5.7         2.5\n",
            "     SepalLength  SepalWidth  PetalLength  PetalWidth\n",
            "149          5.9         3.0          5.1         1.8\n",
            "50           7.0         3.2          4.7         1.4\n",
            "40           5.0         3.5          1.3         0.3\n",
            "61           5.9         3.0          4.2         1.5\n",
            "105          7.6         3.0          6.6         2.1\n"
          ],
          "name": "stdout"
        }
      ]
    },
    {
      "cell_type": "markdown",
      "metadata": {
        "id": "WpXBmiW4hyre"
      },
      "source": [
        "### allAlgorithmsにcclassifierを指定して「分類」でフィルターしたアルゴリズムの推定期群を取得する"
      ]
    },
    {
      "cell_type": "code",
      "metadata": {
        "id": "ax8LAyDfhwFj",
        "outputId": "62293c37-632a-4633-9603-578097bfc480",
        "colab": {
          "base_uri": "https://localhost:8080/"
        }
      },
      "source": [
        "# 水滴のリストをフィルター指定して取得\n",
        "allAlgorithms = all_estimators(type_filter=\"classifier\")\n",
        "# ワーニングを無視する\n",
        "warnings.filterwarnings('ignore')"
      ],
      "execution_count": 6,
      "outputs": [
        {
          "output_type": "stream",
          "text": [
            "/usr/local/lib/python3.6/dist-packages/sklearn/externals/joblib/__init__.py:15: FutureWarning: sklearn.externals.joblib is deprecated in 0.21 and will be removed in 0.23. Please import this functionality directly from joblib, which can be installed with: pip install joblib. If this warning is raised when loading pickled models, you may need to re-serialize those models with scikit-learn 0.21+.\n",
            "  warnings.warn(msg, category=FutureWarning)\n"
          ],
          "name": "stderr"
        }
      ]
    },
    {
      "cell_type": "code",
      "metadata": {
        "id": "jQ3RLZdrh3Cv"
      },
      "source": [
        "### 推定期のリストをループしながら学習＆推論させる"
      ],
      "execution_count": null,
      "outputs": []
    },
    {
      "cell_type": "code",
      "metadata": {
        "id": "PYLA4mk-h06P",
        "outputId": "2a434f9b-d3f2-4b4a-e3fb-e72bcc169fa8",
        "colab": {
          "base_uri": "https://localhost:8080/",
          "height": 464
        }
      },
      "source": [
        "for(name,algorithm) in allAlgorithms:\n",
        "  #各アルゴリズムのオブジェクトを生成\n",
        "  clf = algorithm() # 各アルゴリズムクラスのコンストラクトを実行\n",
        "  #　学習させる\n",
        "  clf.fit(x_train,y_train)\n",
        "  # 推論する\n",
        "  y_pred = clf.predict(x_test)\n",
        "  # accuracy_scoreで正解率を算出して表示\n",
        "  print(name,\"正解率 = \",accuracy_score(y_test,y_pred) )"
      ],
      "execution_count": 7,
      "outputs": [
        {
          "output_type": "stream",
          "text": [
            "AdaBoostClassifier 正解率 =  1.0\n",
            "BaggingClassifier 正解率 =  1.0\n",
            "BernoulliNB 正解率 =  0.23333333333333334\n",
            "CalibratedClassifierCV 正解率 =  0.9666666666666667\n",
            "CategoricalNB 正解率 =  0.9333333333333333\n"
          ],
          "name": "stdout"
        },
        {
          "output_type": "error",
          "ename": "ValueError",
          "evalue": "ignored",
          "traceback": [
            "\u001b[0;31m---------------------------------------------------------------------------\u001b[0m",
            "\u001b[0;31mValueError\u001b[0m                                Traceback (most recent call last)",
            "\u001b[0;32m<ipython-input-7-60059216f7a2>\u001b[0m in \u001b[0;36m<module>\u001b[0;34m()\u001b[0m\n\u001b[1;32m      3\u001b[0m   \u001b[0mclf\u001b[0m \u001b[0;34m=\u001b[0m \u001b[0malgorithm\u001b[0m\u001b[0;34m(\u001b[0m\u001b[0;34m)\u001b[0m \u001b[0;31m# 各アルゴリズムクラスのコンストラクトを実行\u001b[0m\u001b[0;34m\u001b[0m\u001b[0;34m\u001b[0m\u001b[0m\n\u001b[1;32m      4\u001b[0m   \u001b[0;31m#　学習させる\u001b[0m\u001b[0;34m\u001b[0m\u001b[0;34m\u001b[0m\u001b[0;34m\u001b[0m\u001b[0m\n\u001b[0;32m----> 5\u001b[0;31m   \u001b[0mclf\u001b[0m\u001b[0;34m.\u001b[0m\u001b[0mfit\u001b[0m\u001b[0;34m(\u001b[0m\u001b[0mx_train\u001b[0m\u001b[0;34m,\u001b[0m\u001b[0my_train\u001b[0m\u001b[0;34m)\u001b[0m\u001b[0;34m\u001b[0m\u001b[0;34m\u001b[0m\u001b[0m\n\u001b[0m\u001b[1;32m      6\u001b[0m   \u001b[0;31m# 推論する\u001b[0m\u001b[0;34m\u001b[0m\u001b[0;34m\u001b[0m\u001b[0;34m\u001b[0m\u001b[0m\n\u001b[1;32m      7\u001b[0m   \u001b[0my_pred\u001b[0m \u001b[0;34m=\u001b[0m \u001b[0mclf\u001b[0m\u001b[0;34m.\u001b[0m\u001b[0mpredict\u001b[0m\u001b[0;34m(\u001b[0m\u001b[0mx_test\u001b[0m\u001b[0;34m)\u001b[0m\u001b[0;34m\u001b[0m\u001b[0;34m\u001b[0m\u001b[0m\n",
            "\u001b[0;32m/usr/local/lib/python3.6/dist-packages/sklearn/utils/_mocking.py\u001b[0m in \u001b[0;36mfit\u001b[0;34m(self, X, y, **fit_params)\u001b[0m\n\u001b[1;32m     93\u001b[0m             \u001b[0;32massert\u001b[0m \u001b[0mself\u001b[0m\u001b[0;34m.\u001b[0m\u001b[0mcheck_y\u001b[0m\u001b[0;34m(\u001b[0m\u001b[0my\u001b[0m\u001b[0;34m)\u001b[0m\u001b[0;34m\u001b[0m\u001b[0;34m\u001b[0m\u001b[0m\n\u001b[1;32m     94\u001b[0m         self.classes_ = np.unique(check_array(y, ensure_2d=False,\n\u001b[0;32m---> 95\u001b[0;31m                                               allow_nd=True))\n\u001b[0m\u001b[1;32m     96\u001b[0m         \u001b[0;32mif\u001b[0m \u001b[0mself\u001b[0m\u001b[0;34m.\u001b[0m\u001b[0mexpected_fit_params\u001b[0m\u001b[0;34m:\u001b[0m\u001b[0;34m\u001b[0m\u001b[0;34m\u001b[0m\u001b[0m\n\u001b[1;32m     97\u001b[0m             \u001b[0mmissing\u001b[0m \u001b[0;34m=\u001b[0m \u001b[0mset\u001b[0m\u001b[0;34m(\u001b[0m\u001b[0mself\u001b[0m\u001b[0;34m.\u001b[0m\u001b[0mexpected_fit_params\u001b[0m\u001b[0;34m)\u001b[0m \u001b[0;34m-\u001b[0m \u001b[0mset\u001b[0m\u001b[0;34m(\u001b[0m\u001b[0mfit_params\u001b[0m\u001b[0;34m)\u001b[0m\u001b[0;34m\u001b[0m\u001b[0;34m\u001b[0m\u001b[0m\n",
            "\u001b[0;32m/usr/local/lib/python3.6/dist-packages/sklearn/utils/validation.py\u001b[0m in \u001b[0;36mcheck_array\u001b[0;34m(array, accept_sparse, accept_large_sparse, dtype, order, copy, force_all_finite, ensure_2d, allow_nd, ensure_min_samples, ensure_min_features, warn_on_dtype, estimator)\u001b[0m\n\u001b[1;32m    529\u001b[0m                     \u001b[0marray\u001b[0m \u001b[0;34m=\u001b[0m \u001b[0marray\u001b[0m\u001b[0;34m.\u001b[0m\u001b[0mastype\u001b[0m\u001b[0;34m(\u001b[0m\u001b[0mdtype\u001b[0m\u001b[0;34m,\u001b[0m \u001b[0mcasting\u001b[0m\u001b[0;34m=\u001b[0m\u001b[0;34m\"unsafe\"\u001b[0m\u001b[0;34m,\u001b[0m \u001b[0mcopy\u001b[0m\u001b[0;34m=\u001b[0m\u001b[0;32mFalse\u001b[0m\u001b[0;34m)\u001b[0m\u001b[0;34m\u001b[0m\u001b[0;34m\u001b[0m\u001b[0m\n\u001b[1;32m    530\u001b[0m                 \u001b[0;32melse\u001b[0m\u001b[0;34m:\u001b[0m\u001b[0;34m\u001b[0m\u001b[0;34m\u001b[0m\u001b[0m\n\u001b[0;32m--> 531\u001b[0;31m                     \u001b[0marray\u001b[0m \u001b[0;34m=\u001b[0m \u001b[0mnp\u001b[0m\u001b[0;34m.\u001b[0m\u001b[0masarray\u001b[0m\u001b[0;34m(\u001b[0m\u001b[0marray\u001b[0m\u001b[0;34m,\u001b[0m \u001b[0morder\u001b[0m\u001b[0;34m=\u001b[0m\u001b[0morder\u001b[0m\u001b[0;34m,\u001b[0m \u001b[0mdtype\u001b[0m\u001b[0;34m=\u001b[0m\u001b[0mdtype\u001b[0m\u001b[0;34m)\u001b[0m\u001b[0;34m\u001b[0m\u001b[0;34m\u001b[0m\u001b[0m\n\u001b[0m\u001b[1;32m    532\u001b[0m             \u001b[0;32mexcept\u001b[0m \u001b[0mComplexWarning\u001b[0m\u001b[0;34m:\u001b[0m\u001b[0;34m\u001b[0m\u001b[0;34m\u001b[0m\u001b[0m\n\u001b[1;32m    533\u001b[0m                 raise ValueError(\"Complex data not supported\\n\"\n",
            "\u001b[0;32m/usr/local/lib/python3.6/dist-packages/numpy/core/_asarray.py\u001b[0m in \u001b[0;36masarray\u001b[0;34m(a, dtype, order)\u001b[0m\n\u001b[1;32m     83\u001b[0m \u001b[0;34m\u001b[0m\u001b[0m\n\u001b[1;32m     84\u001b[0m     \"\"\"\n\u001b[0;32m---> 85\u001b[0;31m     \u001b[0;32mreturn\u001b[0m \u001b[0marray\u001b[0m\u001b[0;34m(\u001b[0m\u001b[0ma\u001b[0m\u001b[0;34m,\u001b[0m \u001b[0mdtype\u001b[0m\u001b[0;34m,\u001b[0m \u001b[0mcopy\u001b[0m\u001b[0;34m=\u001b[0m\u001b[0;32mFalse\u001b[0m\u001b[0;34m,\u001b[0m \u001b[0morder\u001b[0m\u001b[0;34m=\u001b[0m\u001b[0morder\u001b[0m\u001b[0;34m)\u001b[0m\u001b[0;34m\u001b[0m\u001b[0;34m\u001b[0m\u001b[0m\n\u001b[0m\u001b[1;32m     86\u001b[0m \u001b[0;34m\u001b[0m\u001b[0m\n\u001b[1;32m     87\u001b[0m \u001b[0;34m\u001b[0m\u001b[0m\n",
            "\u001b[0;32m/usr/local/lib/python3.6/dist-packages/pandas/core/series.py\u001b[0m in \u001b[0;36m__array__\u001b[0;34m(self, dtype)\u001b[0m\n\u001b[1;32m    795\u001b[0m               dtype='datetime64[ns]')\n\u001b[1;32m    796\u001b[0m         \"\"\"\n\u001b[0;32m--> 797\u001b[0;31m         \u001b[0;32mreturn\u001b[0m \u001b[0mnp\u001b[0m\u001b[0;34m.\u001b[0m\u001b[0masarray\u001b[0m\u001b[0;34m(\u001b[0m\u001b[0mself\u001b[0m\u001b[0;34m.\u001b[0m\u001b[0marray\u001b[0m\u001b[0;34m,\u001b[0m \u001b[0mdtype\u001b[0m\u001b[0;34m)\u001b[0m\u001b[0;34m\u001b[0m\u001b[0;34m\u001b[0m\u001b[0m\n\u001b[0m\u001b[1;32m    798\u001b[0m \u001b[0;34m\u001b[0m\u001b[0m\n\u001b[1;32m    799\u001b[0m     \u001b[0;31m# ----------------------------------------------------------------------\u001b[0m\u001b[0;34m\u001b[0m\u001b[0;34m\u001b[0m\u001b[0;34m\u001b[0m\u001b[0m\n",
            "\u001b[0;32m/usr/local/lib/python3.6/dist-packages/numpy/core/_asarray.py\u001b[0m in \u001b[0;36masarray\u001b[0;34m(a, dtype, order)\u001b[0m\n\u001b[1;32m     83\u001b[0m \u001b[0;34m\u001b[0m\u001b[0m\n\u001b[1;32m     84\u001b[0m     \"\"\"\n\u001b[0;32m---> 85\u001b[0;31m     \u001b[0;32mreturn\u001b[0m \u001b[0marray\u001b[0m\u001b[0;34m(\u001b[0m\u001b[0ma\u001b[0m\u001b[0;34m,\u001b[0m \u001b[0mdtype\u001b[0m\u001b[0;34m,\u001b[0m \u001b[0mcopy\u001b[0m\u001b[0;34m=\u001b[0m\u001b[0;32mFalse\u001b[0m\u001b[0;34m,\u001b[0m \u001b[0morder\u001b[0m\u001b[0;34m=\u001b[0m\u001b[0morder\u001b[0m\u001b[0;34m)\u001b[0m\u001b[0;34m\u001b[0m\u001b[0;34m\u001b[0m\u001b[0m\n\u001b[0m\u001b[1;32m     86\u001b[0m \u001b[0;34m\u001b[0m\u001b[0m\n\u001b[1;32m     87\u001b[0m \u001b[0;34m\u001b[0m\u001b[0m\n",
            "\u001b[0;32m/usr/local/lib/python3.6/dist-packages/pandas/core/arrays/numpy_.py\u001b[0m in \u001b[0;36m__array__\u001b[0;34m(self, dtype)\u001b[0m\n\u001b[1;32m    209\u001b[0m \u001b[0;34m\u001b[0m\u001b[0m\n\u001b[1;32m    210\u001b[0m     \u001b[0;32mdef\u001b[0m \u001b[0m__array__\u001b[0m\u001b[0;34m(\u001b[0m\u001b[0mself\u001b[0m\u001b[0;34m,\u001b[0m \u001b[0mdtype\u001b[0m\u001b[0;34m=\u001b[0m\u001b[0;32mNone\u001b[0m\u001b[0;34m)\u001b[0m \u001b[0;34m->\u001b[0m \u001b[0mnp\u001b[0m\u001b[0;34m.\u001b[0m\u001b[0mndarray\u001b[0m\u001b[0;34m:\u001b[0m\u001b[0;34m\u001b[0m\u001b[0;34m\u001b[0m\u001b[0m\n\u001b[0;32m--> 211\u001b[0;31m         \u001b[0;32mreturn\u001b[0m \u001b[0mnp\u001b[0m\u001b[0;34m.\u001b[0m\u001b[0masarray\u001b[0m\u001b[0;34m(\u001b[0m\u001b[0mself\u001b[0m\u001b[0;34m.\u001b[0m\u001b[0m_ndarray\u001b[0m\u001b[0;34m,\u001b[0m \u001b[0mdtype\u001b[0m\u001b[0;34m=\u001b[0m\u001b[0mdtype\u001b[0m\u001b[0;34m)\u001b[0m\u001b[0;34m\u001b[0m\u001b[0;34m\u001b[0m\u001b[0m\n\u001b[0m\u001b[1;32m    212\u001b[0m \u001b[0;34m\u001b[0m\u001b[0m\n\u001b[1;32m    213\u001b[0m     \u001b[0m_HANDLED_TYPES\u001b[0m \u001b[0;34m=\u001b[0m \u001b[0;34m(\u001b[0m\u001b[0mnp\u001b[0m\u001b[0;34m.\u001b[0m\u001b[0mndarray\u001b[0m\u001b[0;34m,\u001b[0m \u001b[0mnumbers\u001b[0m\u001b[0;34m.\u001b[0m\u001b[0mNumber\u001b[0m\u001b[0;34m)\u001b[0m\u001b[0;34m\u001b[0m\u001b[0;34m\u001b[0m\u001b[0m\n",
            "\u001b[0;32m/usr/local/lib/python3.6/dist-packages/numpy/core/_asarray.py\u001b[0m in \u001b[0;36masarray\u001b[0;34m(a, dtype, order)\u001b[0m\n\u001b[1;32m     83\u001b[0m \u001b[0;34m\u001b[0m\u001b[0m\n\u001b[1;32m     84\u001b[0m     \"\"\"\n\u001b[0;32m---> 85\u001b[0;31m     \u001b[0;32mreturn\u001b[0m \u001b[0marray\u001b[0m\u001b[0;34m(\u001b[0m\u001b[0ma\u001b[0m\u001b[0;34m,\u001b[0m \u001b[0mdtype\u001b[0m\u001b[0;34m,\u001b[0m \u001b[0mcopy\u001b[0m\u001b[0;34m=\u001b[0m\u001b[0;32mFalse\u001b[0m\u001b[0;34m,\u001b[0m \u001b[0morder\u001b[0m\u001b[0;34m=\u001b[0m\u001b[0morder\u001b[0m\u001b[0;34m)\u001b[0m\u001b[0;34m\u001b[0m\u001b[0;34m\u001b[0m\u001b[0m\n\u001b[0m\u001b[1;32m     86\u001b[0m \u001b[0;34m\u001b[0m\u001b[0m\n\u001b[1;32m     87\u001b[0m \u001b[0;34m\u001b[0m\u001b[0m\n",
            "\u001b[0;31mValueError\u001b[0m: could not convert string to float: 'Iris-versicolor'"
          ]
        }
      ]
    },
    {
      "cell_type": "markdown",
      "metadata": {
        "id": "qLKHx9HHh-L9"
      },
      "source": [
        "### クロスバリデーション"
      ]
    },
    {
      "cell_type": "code",
      "metadata": {
        "id": "rHR-en_mh57a"
      },
      "source": [
        "# ライブラリのインポート\n",
        "# 分割クロスバリデーション\n",
        "from sklearn.model_selection import KFold\n",
        "# クロスバリデーションスコアを取得す流ためのコード\n",
        "from sklearn.model_selection import cross_val_score"
      ],
      "execution_count": 8,
      "outputs": []
    },
    {
      "cell_type": "markdown",
      "metadata": {
        "id": "E7zJDQweiF6K"
      },
      "source": [
        "クロスバリデーションを実行する"
      ]
    },
    {
      "cell_type": "code",
      "metadata": {
        "id": "ctB_NMzliDRC",
        "outputId": "d38b9249-d527-4430-bfc5-d3b45e2354f8",
        "colab": {
          "base_uri": "https://localhost:8080/"
        }
      },
      "source": [
        "# K分割考査検証\n",
        "kfold_cv = KFold(n_splits=5, shuffle=True)\n",
        "# すでに生成してあるall_estimatorsのインスタンスをループさせて、クロスバリデーションを行う\n",
        "for( name, algorithms ) in allAlgorithms:\n",
        "  try:\n",
        "    # 各アルゴリズムのインスタンスを取得\n",
        "    clf = algorithm()\n",
        "    # scoreの属性がある学習モデルだけに絞る\n",
        "    if hasattr( clf, \"score\" ):\n",
        "      # クロスバリデーションをしてスコアを取得する\n",
        "      scores = cross_val_score(clf,x,y, cv=kfold_cv)\n",
        "      #　k=n_splits=5 回文のクロスバリデーションのスコアを表示\n",
        "      print( name, \"の正解率\" )\n",
        "      print( scores )\n",
        "    # ifブロックの終了\n",
        "  # tryブロックの終了\n",
        "  except: # 例外処理ブロック\n",
        "    # 何もしない\n",
        "    pass"
      ],
      "execution_count": 9,
      "outputs": [
        {
          "output_type": "stream",
          "text": [
            "AdaBoostClassifier の正解率\n",
            "[nan nan nan nan nan]\n",
            "BaggingClassifier の正解率\n",
            "[nan nan nan nan nan]\n",
            "BernoulliNB の正解率\n",
            "[nan nan nan nan nan]\n",
            "CalibratedClassifierCV の正解率\n",
            "[nan nan nan nan nan]\n",
            "CategoricalNB の正解率\n",
            "[nan nan nan nan nan]\n",
            "CheckingClassifier の正解率\n",
            "[nan nan nan nan nan]\n",
            "ClassifierChain の正解率\n",
            "[nan nan nan nan nan]\n",
            "ComplementNB の正解率\n",
            "[nan nan nan nan nan]\n",
            "DecisionTreeClassifier の正解率\n",
            "[nan nan nan nan nan]\n",
            "DummyClassifier の正解率\n",
            "[nan nan nan nan nan]\n",
            "ExtraTreeClassifier の正解率\n",
            "[nan nan nan nan nan]\n",
            "ExtraTreesClassifier の正解率\n",
            "[nan nan nan nan nan]\n",
            "GaussianNB の正解率\n",
            "[nan nan nan nan nan]\n",
            "GaussianProcessClassifier の正解率\n",
            "[nan nan nan nan nan]\n",
            "GradientBoostingClassifier の正解率\n",
            "[nan nan nan nan nan]\n",
            "HistGradientBoostingClassifier の正解率\n",
            "[nan nan nan nan nan]\n",
            "KNeighborsClassifier の正解率\n",
            "[nan nan nan nan nan]\n",
            "LabelPropagation の正解率\n",
            "[nan nan nan nan nan]\n",
            "LabelSpreading の正解率\n",
            "[nan nan nan nan nan]\n",
            "LinearDiscriminantAnalysis の正解率\n",
            "[nan nan nan nan nan]\n",
            "LinearSVC の正解率\n",
            "[nan nan nan nan nan]\n",
            "LogisticRegression の正解率\n",
            "[nan nan nan nan nan]\n",
            "LogisticRegressionCV の正解率\n",
            "[nan nan nan nan nan]\n",
            "MLPClassifier の正解率\n",
            "[nan nan nan nan nan]\n",
            "MultiOutputClassifier の正解率\n",
            "[nan nan nan nan nan]\n",
            "MultinomialNB の正解率\n",
            "[nan nan nan nan nan]\n",
            "NearestCentroid の正解率\n",
            "[nan nan nan nan nan]\n",
            "NuSVC の正解率\n",
            "[nan nan nan nan nan]\n",
            "OneVsOneClassifier の正解率\n",
            "[nan nan nan nan nan]\n",
            "OneVsRestClassifier の正解率\n",
            "[nan nan nan nan nan]\n",
            "OutputCodeClassifier の正解率\n",
            "[nan nan nan nan nan]\n",
            "PassiveAggressiveClassifier の正解率\n",
            "[nan nan nan nan nan]\n",
            "Perceptron の正解率\n",
            "[nan nan nan nan nan]\n",
            "QuadraticDiscriminantAnalysis の正解率\n",
            "[nan nan nan nan nan]\n",
            "RadiusNeighborsClassifier の正解率\n",
            "[nan nan nan nan nan]\n",
            "RandomForestClassifier の正解率\n",
            "[nan nan nan nan nan]\n",
            "RidgeClassifier の正解率\n",
            "[nan nan nan nan nan]\n",
            "RidgeClassifierCV の正解率\n",
            "[nan nan nan nan nan]\n",
            "SGDClassifier の正解率\n",
            "[nan nan nan nan nan]\n",
            "SVC の正解率\n",
            "[nan nan nan nan nan]\n",
            "StackingClassifier の正解率\n",
            "[nan nan nan nan nan]\n",
            "VotingClassifier の正解率\n",
            "[nan nan nan nan nan]\n"
          ],
          "name": "stdout"
        }
      ]
    },
    {
      "cell_type": "markdown",
      "metadata": {
        "id": "2wtoIXxpiNcD"
      },
      "source": [
        "### おまけ:cross_val_scoreもっと詳しい結果を取得できる新しいクロスバリデーションオブジェクト:cross_validate"
      ]
    },
    {
      "cell_type": "code",
      "metadata": {
        "id": "uUKNYCS4iISk"
      },
      "source": [
        "# ライブラリのインポート\n",
        "from sklearn.model_selection import cross_validate"
      ],
      "execution_count": 10,
      "outputs": []
    },
    {
      "cell_type": "markdown",
      "metadata": {
        "id": "eH11wQQCiSkA"
      },
      "source": [
        "### 　cross_validateを使ったクロスバリデーション"
      ]
    },
    {
      "cell_type": "code",
      "metadata": {
        "id": "fZcz_vJQiMLF",
        "outputId": "e2b36829-7630-4a2c-93fc-cf2b62d79ff9",
        "colab": {
          "base_uri": "https://localhost:8080/"
        }
      },
      "source": [
        "# K分割考査検証\n",
        "kfold_cv = KFold(n_splits=5, shuffle=True)\n",
        "# すでに生成してあるall_estimatorsのインスタンスをループさせて、クロスバリデーションを行う\n",
        "for( name, algorithms ) in allAlgorithms:\n",
        "  try:\n",
        "    # 各アルゴリズムのインスタンスを取得\n",
        "    clf = algorithm()\n",
        "    # scoreの属性がある学習モデルだけに絞る\n",
        "    if hasattr( clf, \"score\" ):\n",
        "      # クロスバリデーションをしてスコアを取得する\n",
        "      scores = cross_validate(clf,x,y, cv=kfold_cv)\n",
        "      #　k=n_splits=5 回文のクロスバリデーションのスコアを表示\n",
        "      print( name, \"の正解率\" )\n",
        "      print( scores )\n",
        "    # ifブロックの終了\n",
        "  # tryブロックの終了\n",
        "  except: # 例外処理ブロック\n",
        "    # 何もしない\n",
        "    pass"
      ],
      "execution_count": 11,
      "outputs": [
        {
          "output_type": "stream",
          "text": [
            "AdaBoostClassifier の正解率\n",
            "{'fit_time': array([0.00114655, 0.00079083, 0.0007205 , 0.000705  , 0.00083113]), 'score_time': array([0., 0., 0., 0., 0.]), 'test_score': array([nan, nan, nan, nan, nan])}\n",
            "BaggingClassifier の正解率\n",
            "{'fit_time': array([0.00161409, 0.0009439 , 0.00073504, 0.00073624, 0.00071621]), 'score_time': array([0., 0., 0., 0., 0.]), 'test_score': array([nan, nan, nan, nan, nan])}\n",
            "BernoulliNB の正解率\n",
            "{'fit_time': array([0.00079155, 0.00074768, 0.00073647, 0.0008266 , 0.0008018 ]), 'score_time': array([0., 0., 0., 0., 0.]), 'test_score': array([nan, nan, nan, nan, nan])}\n",
            "CalibratedClassifierCV の正解率\n",
            "{'fit_time': array([0.0007484 , 0.00074267, 0.00073195, 0.00074434, 0.00081658]), 'score_time': array([0., 0., 0., 0., 0.]), 'test_score': array([nan, nan, nan, nan, nan])}\n",
            "CategoricalNB の正解率\n",
            "{'fit_time': array([0.00079489, 0.00072169, 0.00070691, 0.00071597, 0.00075817]), 'score_time': array([0., 0., 0., 0., 0.]), 'test_score': array([nan, nan, nan, nan, nan])}\n",
            "CheckingClassifier の正解率\n",
            "{'fit_time': array([0.00074029, 0.00072742, 0.00093627, 0.00073314, 0.00072694]), 'score_time': array([0., 0., 0., 0., 0.]), 'test_score': array([nan, nan, nan, nan, nan])}\n",
            "ClassifierChain の正解率\n",
            "{'fit_time': array([0.00073528, 0.00072455, 0.00071764, 0.00071692, 0.00070262]), 'score_time': array([0., 0., 0., 0., 0.]), 'test_score': array([nan, nan, nan, nan, nan])}\n",
            "ComplementNB の正解率\n",
            "{'fit_time': array([0.00072527, 0.00071049, 0.00071216, 0.00071049, 0.00071168]), 'score_time': array([0., 0., 0., 0., 0.]), 'test_score': array([nan, nan, nan, nan, nan])}\n",
            "DecisionTreeClassifier の正解率\n",
            "{'fit_time': array([0.00072384, 0.0007143 , 0.00072145, 0.00072575, 0.00071335]), 'score_time': array([0., 0., 0., 0., 0.]), 'test_score': array([nan, nan, nan, nan, nan])}\n",
            "DummyClassifier の正解率\n",
            "{'fit_time': array([0.00073051, 0.00071669, 0.00071144, 0.00072026, 0.00072122]), 'score_time': array([0., 0., 0., 0., 0.]), 'test_score': array([nan, nan, nan, nan, nan])}\n",
            "ExtraTreeClassifier の正解率\n",
            "{'fit_time': array([0.00072813, 0.00070524, 0.0007    , 0.00071597, 0.00071597]), 'score_time': array([0., 0., 0., 0., 0.]), 'test_score': array([nan, nan, nan, nan, nan])}\n",
            "ExtraTreesClassifier の正解率\n",
            "{'fit_time': array([0.00120473, 0.00072336, 0.00072265, 0.00072479, 0.00072002]), 'score_time': array([0., 0., 0., 0., 0.]), 'test_score': array([nan, nan, nan, nan, nan])}\n",
            "GaussianNB の正解率\n",
            "{'fit_time': array([0.00073195, 0.0007143 , 0.00070643, 0.00070763, 0.00070238]), 'score_time': array([0., 0., 0., 0., 0.]), 'test_score': array([nan, nan, nan, nan, nan])}\n",
            "GaussianProcessClassifier の正解率\n",
            "{'fit_time': array([0.00073552, 0.00071716, 0.00071621, 0.00074816, 0.00073862]), 'score_time': array([0., 0., 0., 0., 0.]), 'test_score': array([nan, nan, nan, nan, nan])}\n",
            "GradientBoostingClassifier の正解率\n",
            "{'fit_time': array([0.00071263, 0.00070858, 0.00070095, 0.0007081 , 0.00071359]), 'score_time': array([0., 0., 0., 0., 0.]), 'test_score': array([nan, nan, nan, nan, nan])}\n",
            "HistGradientBoostingClassifier の正解率\n",
            "{'fit_time': array([0.00072837, 0.00070596, 0.00069928, 0.00069737, 0.00069714]), 'score_time': array([0., 0., 0., 0., 0.]), 'test_score': array([nan, nan, nan, nan, nan])}\n",
            "KNeighborsClassifier の正解率\n",
            "{'fit_time': array([0.00071573, 0.00071001, 0.00070381, 0.00071096, 0.00071383]), 'score_time': array([0., 0., 0., 0., 0.]), 'test_score': array([nan, nan, nan, nan, nan])}\n",
            "LabelPropagation の正解率\n",
            "{'fit_time': array([0.00073171, 0.00070643, 0.0007484 , 0.00071502, 0.0007112 ]), 'score_time': array([0., 0., 0., 0., 0.]), 'test_score': array([nan, nan, nan, nan, nan])}\n",
            "LabelSpreading の正解率\n",
            "{'fit_time': array([0.00073409, 0.00071907, 0.00071502, 0.0007329 , 0.00071955]), 'score_time': array([0., 0., 0., 0., 0.]), 'test_score': array([nan, nan, nan, nan, nan])}\n",
            "LinearDiscriminantAnalysis の正解率\n",
            "{'fit_time': array([0.00105524, 0.00071836, 0.00072765, 0.0007081 , 0.00070071]), 'score_time': array([0., 0., 0., 0., 0.]), 'test_score': array([nan, nan, nan, nan, nan])}\n",
            "LinearSVC の正解率\n",
            "{'fit_time': array([0.00073576, 0.0007174 , 0.00073099, 0.00070834, 0.00073981]), 'score_time': array([0., 0., 0., 0., 0.]), 'test_score': array([nan, nan, nan, nan, nan])}\n",
            "LogisticRegression の正解率\n",
            "{'fit_time': array([0.00073576, 0.00072503, 0.00072241, 0.00071144, 0.00071383]), 'score_time': array([0., 0., 0., 0., 0.]), 'test_score': array([nan, nan, nan, nan, nan])}\n",
            "LogisticRegressionCV の正解率\n",
            "{'fit_time': array([0.00073528, 0.00070882, 0.00071549, 0.00070691, 0.00070715]), 'score_time': array([0., 0., 0., 0., 0.]), 'test_score': array([nan, nan, nan, nan, nan])}\n",
            "MLPClassifier の正解率\n",
            "{'fit_time': array([0.00075388, 0.00070977, 0.0007031 , 0.00074863, 0.00070262]), 'score_time': array([0., 0., 0., 0., 0.]), 'test_score': array([nan, nan, nan, nan, nan])}\n",
            "MultiOutputClassifier の正解率\n",
            "{'fit_time': array([0.00071263, 0.00071001, 0.00070357, 0.00076342, 0.0007093 ]), 'score_time': array([0., 0., 0., 0., 0.]), 'test_score': array([nan, nan, nan, nan, nan])}\n",
            "MultinomialNB の正解率\n",
            "{'fit_time': array([0.00074863, 0.0007267 , 0.00072026, 0.00071478, 0.00070572]), 'score_time': array([0., 0., 0., 0., 0.]), 'test_score': array([nan, nan, nan, nan, nan])}\n",
            "NearestCentroid の正解率\n",
            "{'fit_time': array([0.00076199, 0.00075483, 0.00070572, 0.00069404, 0.00075507]), 'score_time': array([0., 0., 0., 0., 0.]), 'test_score': array([nan, nan, nan, nan, nan])}\n",
            "NuSVC の正解率\n",
            "{'fit_time': array([0.00072241, 0.0007174 , 0.00080395, 0.00071645, 0.00072312]), 'score_time': array([0., 0., 0., 0., 0.]), 'test_score': array([nan, nan, nan, nan, nan])}\n",
            "OneVsOneClassifier の正解率\n",
            "{'fit_time': array([0.00074029, 0.00071836, 0.00071383, 0.00070834, 0.00071335]), 'score_time': array([0., 0., 0., 0., 0.]), 'test_score': array([nan, nan, nan, nan, nan])}\n",
            "OneVsRestClassifier の正解率\n",
            "{'fit_time': array([0.00075388, 0.00072002, 0.00072145, 0.00071955, 0.00071597]), 'score_time': array([0., 0., 0., 0., 0.]), 'test_score': array([nan, nan, nan, nan, nan])}\n",
            "OutputCodeClassifier の正解率\n",
            "{'fit_time': array([0.00073028, 0.00071406, 0.00070596, 0.00070596, 0.00070381]), 'score_time': array([0., 0., 0., 0., 0.]), 'test_score': array([nan, nan, nan, nan, nan])}\n",
            "PassiveAggressiveClassifier の正解率\n",
            "{'fit_time': array([0.00072479, 0.00072241, 0.00071836, 0.00070357, 0.00070763]), 'score_time': array([0., 0., 0., 0., 0.]), 'test_score': array([nan, nan, nan, nan, nan])}\n",
            "Perceptron の正解率\n",
            "{'fit_time': array([0.00073004, 0.00071907, 0.00071526, 0.00075078, 0.00072408]), 'score_time': array([0., 0., 0., 0., 0.]), 'test_score': array([nan, nan, nan, nan, nan])}\n",
            "QuadraticDiscriminantAnalysis の正解率\n",
            "{'fit_time': array([0.00074029, 0.00071406, 0.00071979, 0.00075078, 0.00071478]), 'score_time': array([0., 0., 0., 0., 0.]), 'test_score': array([nan, nan, nan, nan, nan])}\n",
            "RadiusNeighborsClassifier の正解率\n",
            "{'fit_time': array([0.0008862 , 0.00081968, 0.0008316 , 0.00074315, 0.00074124]), 'score_time': array([0., 0., 0., 0., 0.]), 'test_score': array([nan, nan, nan, nan, nan])}\n",
            "RandomForestClassifier の正解率\n",
            "{'fit_time': array([0.00075531, 0.0007174 , 0.00072169, 0.00071216, 0.00070834]), 'score_time': array([0., 0., 0., 0., 0.]), 'test_score': array([nan, nan, nan, nan, nan])}\n",
            "RidgeClassifier の正解率\n",
            "{'fit_time': array([0.00074506, 0.00072122, 0.00071716, 0.00071955, 0.00073647]), 'score_time': array([0., 0., 0., 0., 0.]), 'test_score': array([nan, nan, nan, nan, nan])}\n",
            "RidgeClassifierCV の正解率\n",
            "{'fit_time': array([0.00089574, 0.00088811, 0.00119042, 0.00071549, 0.00090265]), 'score_time': array([0., 0., 0., 0., 0.]), 'test_score': array([nan, nan, nan, nan, nan])}\n",
            "SGDClassifier の正解率\n",
            "{'fit_time': array([0.00086379, 0.00091743, 0.00075912, 0.0007298 , 0.00073433]), 'score_time': array([0., 0., 0., 0., 0.]), 'test_score': array([nan, nan, nan, nan, nan])}\n",
            "SVC の正解率\n",
            "{'fit_time': array([0.00075269, 0.00070858, 0.00070739, 0.00084925, 0.00073814]), 'score_time': array([0., 0., 0., 0., 0.]), 'test_score': array([nan, nan, nan, nan, nan])}\n",
            "StackingClassifier の正解率\n",
            "{'fit_time': array([0.00076199, 0.0007863 , 0.00070477, 0.0007062 , 0.00070143]), 'score_time': array([0., 0., 0., 0., 0.]), 'test_score': array([nan, nan, nan, nan, nan])}\n",
            "VotingClassifier の正解率\n",
            "{'fit_time': array([0.00071502, 0.0007031 , 0.00071788, 0.00069666, 0.00071788]), 'score_time': array([0., 0., 0., 0., 0.]), 'test_score': array([nan, nan, nan, nan, nan])}\n"
          ],
          "name": "stdout"
        }
      ]
    },
    {
      "cell_type": "markdown",
      "metadata": {
        "id": "05iL98csiZJX"
      },
      "source": [
        "### グリッドサーチ"
      ]
    },
    {
      "cell_type": "code",
      "metadata": {
        "id": "w0rtKsXdiTSV"
      },
      "source": [
        "from sklearn.model_selection import GridSearchCV\n",
        "# SVCアルゴリズムの学習モデルをimport\n",
        "from sklearn.svm import SVC"
      ],
      "execution_count": 12,
      "outputs": []
    },
    {
      "cell_type": "code",
      "metadata": {
        "id": "OF6JECcDib_C",
        "outputId": "ee75041d-e1da-400e-ddfc-637232065066",
        "colab": {
          "base_uri": "https://localhost:8080/"
        }
      },
      "source": [
        "parameters = [\n",
        "              # 3つのパラメータ、３パターン\n",
        "              {\"C\":[1,10,100,1000],\"kernel\":[\"linear\"]}, \n",
        "              {\"C\":[1,10,100,1000],\"kernel\":[\"rbf\"], \"gamma\":[0.001,0.0001]}, \n",
        "              {\"C\":[1,10,100,1000],\"kernel\":[\"sigmoid\"], \"gamma\":[0.001,0.0001]},\n",
        "]\n",
        "\n",
        "# 普通の学習\n",
        "clf = SVC()\n",
        "clf.fit(x_train, y_train)\n",
        "y_pred = clf.predict(x_test)\n",
        "print(\"普通の学習の正解率 = \", accuracy_score(y_test, y_pred))\n",
        "\n",
        "# グリッドサーチを行う\n",
        "# K分割考査検証用のインスタンスを生成する\n",
        "kfold_cv = KFold( n_splits=5, shuffle=True )\n",
        "#　グリッドサーチのなかでK分割考査検証も行われる\n",
        "clf_gird = GridSearchCV( SVC(), parameters, cv=kfold_cv )\n",
        "clf_gird.fit(x_train, y_train)# 学習\n",
        "# 学習ズミのモデルに最終的に設定されたパラメータを表示\n",
        "print(\"最適なパラメーター　= \", clf_gird.best_estimator_)\n",
        "\n",
        "# 最適なパラメーター設定ズミの学習モデルで評価\n",
        "y_pred = clf_gird.predict(x_test)\n",
        "print(\"グリッドサーチの正解率 = \" , accuracy_score(y_test, y_pred))\n"
      ],
      "execution_count": 13,
      "outputs": [
        {
          "output_type": "stream",
          "text": [
            "普通の学習の正解率 =  1.0\n",
            "最適なパラメーター　=  SVC(C=1, break_ties=False, cache_size=200, class_weight=None, coef0=0.0,\n",
            "    decision_function_shape='ovr', degree=3, gamma='scale', kernel='linear',\n",
            "    max_iter=-1, probability=False, random_state=None, shrinking=True,\n",
            "    tol=0.001, verbose=False)\n",
            "グリッドサーチの正解率 =  1.0\n"
          ],
          "name": "stdout"
        }
      ]
    },
    {
      "cell_type": "markdown",
      "metadata": {
        "id": "ceJThKE-iiFw"
      },
      "source": [
        "### Numpyの動作確認"
      ]
    },
    {
      "cell_type": "code",
      "metadata": {
        "id": "Q60yjoyEifag"
      },
      "source": [
        "# import\n",
        "import numpy as np"
      ],
      "execution_count": 14,
      "outputs": []
    },
    {
      "cell_type": "code",
      "metadata": {
        "id": "J_UhAeZnikPd",
        "outputId": "506d8f7e-af17-48f8-9bca-9efec38b2261",
        "colab": {
          "base_uri": "https://localhost:8080/"
        }
      },
      "source": [
        "# numpy配列の初期化\n",
        "a = np.array([1,2,3,4,5]) # numpy配列オブジェクトを生成\n",
        "print(a)\n",
        "# 型を表示\n",
        "print(type(a))"
      ],
      "execution_count": 15,
      "outputs": [
        {
          "output_type": "stream",
          "text": [
            "[1 2 3 4 5]\n",
            "<class 'numpy.ndarray'>\n"
          ],
          "name": "stdout"
        }
      ]
    },
    {
      "cell_type": "code",
      "metadata": {
        "id": "1Bp0kZjtimNA",
        "outputId": "86e510aa-b265-4ec6-f57b-e148564f8e81",
        "colab": {
          "base_uri": "https://localhost:8080/"
        }
      },
      "source": [
        "# 二次元のndarrayを定義\n",
        "b = np.array([[1,2,3],[4,5,6]])\n",
        "print(b)"
      ],
      "execution_count": 16,
      "outputs": [
        {
          "output_type": "stream",
          "text": [
            "[[1 2 3]\n",
            " [4 5 6]]\n"
          ],
          "name": "stdout"
        }
      ]
    },
    {
      "cell_type": "code",
      "metadata": {
        "id": "SiKTEgISin_3",
        "outputId": "8b2d5e6d-b7ff-4a98-e50e-850cb9670aef",
        "colab": {
          "base_uri": "https://localhost:8080/"
        }
      },
      "source": [
        "# 配列の要素数を指定して０うめで初期化\n",
        "print(np.zeros(10))\n",
        "print(np.zeros((3,2)))\n",
        "print(np.ones(2))"
      ],
      "execution_count": 17,
      "outputs": [
        {
          "output_type": "stream",
          "text": [
            "[0. 0. 0. 0. 0. 0. 0. 0. 0. 0.]\n",
            "[[0. 0.]\n",
            " [0. 0.]\n",
            " [0. 0.]]\n",
            "[1. 1.]\n"
          ],
          "name": "stdout"
        }
      ]
    },
    {
      "cell_type": "code",
      "metadata": {
        "id": "IgFBJV8jipof",
        "outputId": "dc7c9da8-f30b-41dd-9714-a276e36996d0",
        "colab": {
          "base_uri": "https://localhost:8080/"
        }
      },
      "source": [
        "# 配連番の配列を要素数を指定して初期化\n",
        "print(np.arange(5))\n",
        "print(np.arange(2,9))\n",
        "print(np.arange(5,8,0.5))"
      ],
      "execution_count": 18,
      "outputs": [
        {
          "output_type": "stream",
          "text": [
            "[0 1 2 3 4]\n",
            "[2 3 4 5 6 7 8]\n",
            "[5.  5.5 6.  6.5 7.  7.5]\n"
          ],
          "name": "stdout"
        }
      ]
    },
    {
      "cell_type": "code",
      "metadata": {
        "id": "1LHNj4cvirS8",
        "outputId": "3b1ea108-c54d-4493-8b65-c2984d9dd0d6",
        "colab": {
          "base_uri": "https://localhost:8080/"
        }
      },
      "source": [
        "# numpyで行列計算\n",
        "a = np.array([1,2,3,4,5])\n",
        "b = a*2\n",
        "print(b)\n",
        "x = np.arange(10)\n",
        "print(x)\n",
        "y = 3*x + 5\n",
        "print(y)"
      ],
      "execution_count": 19,
      "outputs": [
        {
          "output_type": "stream",
          "text": [
            "[ 2  4  6  8 10]\n",
            "[0 1 2 3 4 5 6 7 8 9]\n",
            "[ 5  8 11 14 17 20 23 26 29 32]\n"
          ],
          "name": "stdout"
        }
      ]
    },
    {
      "cell_type": "code",
      "metadata": {
        "id": "pzP53OuQitE0",
        "outputId": "59f43b3a-b0cd-4d62-8e48-6001ed28f594",
        "colab": {
          "base_uri": "https://localhost:8080/",
          "height": 134
        }
      },
      "source": [
        "a = np.array([[1,2,3],[4,5,6]])\n",
        " print(a)\n",
        " print(a.shape)\n",
        "\n",
        " b = np.array([[1,2,3],[4,5,6],[7,8,9]])\n",
        " print(b)\n",
        " print(b.shape)"
      ],
      "execution_count": 20,
      "outputs": [
        {
          "output_type": "error",
          "ename": "IndentationError",
          "evalue": "ignored",
          "traceback": [
            "\u001b[0;36m  File \u001b[0;32m\"<ipython-input-20-c825b82d68fe>\"\u001b[0;36m, line \u001b[0;32m2\u001b[0m\n\u001b[0;31m    print(a)\u001b[0m\n\u001b[0m    ^\u001b[0m\n\u001b[0;31mIndentationError\u001b[0m\u001b[0;31m:\u001b[0m unexpected indent\n"
          ]
        }
      ]
    },
    {
      "cell_type": "code",
      "metadata": {
        "id": "trHrirXziu4-",
        "outputId": "a1fad283-4cd2-431c-89d1-ec4c15a1e6c0",
        "colab": {
          "base_uri": "https://localhost:8080/"
        }
      },
      "source": [
        "# Numpy配列で次元数を変換する\n",
        "a = np.array([[1,2,3],[4,5,6]])\n",
        "print(\"a=\", a)\n",
        "b = a.flatten()\n",
        "print(\"b=\", b)\n",
        "\n",
        "a = np.array([[1,2,3],[4,5,6]])\n",
        "print(a)\n",
        "b = a.reshape(3,2)\n",
        "print(b)\n"
      ],
      "execution_count": 21,
      "outputs": [
        {
          "output_type": "stream",
          "text": [
            "a= [[1 2 3]\n",
            " [4 5 6]]\n",
            "b= [1 2 3 4 5 6]\n",
            "[[1 2 3]\n",
            " [4 5 6]]\n",
            "[[1 2]\n",
            " [3 4]\n",
            " [5 6]]\n"
          ],
          "name": "stdout"
        }
      ]
    },
    {
      "cell_type": "markdown",
      "metadata": {
        "id": "-CydZPQgiy7X"
      },
      "source": [
        "### numpyの配列にアクセスする方法"
      ]
    },
    {
      "cell_type": "code",
      "metadata": {
        "id": "KwXbCkIMiwz1",
        "outputId": "4d9cf9df-d1a4-4a71-d667-8cfbddbc6daf",
        "colab": {
          "base_uri": "https://localhost:8080/"
        }
      },
      "source": [
        "v = np.array([[1,2,3],[4,5,6],[7,8,9]])\n",
        "a = v[0]\n",
        "print(a) # 二次元配列の０行目\n",
        "b = v[1:] #  一列目いこう\n",
        "print(b)\n",
        "c = v[:,0]\n",
        "print(c)\n"
      ],
      "execution_count": 22,
      "outputs": [
        {
          "output_type": "stream",
          "text": [
            "[1 2 3]\n",
            "[[4 5 6]\n",
            " [7 8 9]]\n",
            "[1 4 7]\n"
          ],
          "name": "stdout"
        }
      ]
    },
    {
      "cell_type": "code",
      "metadata": {
        "id": "bJRjy2CCi4GW"
      },
      "source": [
        ""
      ],
      "execution_count": null,
      "outputs": []
    }
  ]
}