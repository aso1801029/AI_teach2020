{
  "nbformat": 4,
  "nbformat_minor": 0,
  "metadata": {
    "colab": {
      "name": "and.ipynb",
      "provenance": [],
      "collapsed_sections": [],
      "authorship_tag": "ABX9TyOQh947dd1bSQk50J1pvvt9",
      "include_colab_link": true
    },
    "kernelspec": {
      "name": "python3",
      "display_name": "Python 3"
    }
  },
  "cells": [
    {
      "cell_type": "markdown",
      "metadata": {
        "id": "view-in-github",
        "colab_type": "text"
      },
      "source": [
        "<a href=\"https://colab.research.google.com/github/aso1801029/AI_teach2020/blob/master/and.ipynb\" target=\"_parent\"><img src=\"https://colab.research.google.com/assets/colab-badge.svg\" alt=\"Open In Colab\"/></a>"
      ]
    },
    {
      "cell_type": "markdown",
      "metadata": {
        "id": "LN8EoHWhqUcy"
      },
      "source": [
        "### AND演算をモデルに学ばせる（LinearSVC）"
      ]
    },
    {
      "cell_type": "code",
      "metadata": {
        "id": "ZfRFmNCUqG_0"
      },
      "source": [
        "# scikit-learn を使うためimportする\n",
        "from sklearn.svm import LinearSVC\n",
        "from sklearn.metrics import accuracy_score"
      ],
      "execution_count": 4,
      "outputs": []
    },
    {
      "cell_type": "markdown",
      "metadata": {
        "id": "znR2wU6brVT3"
      },
      "source": [
        "### 学習のためのデータを用意する"
      ]
    },
    {
      "cell_type": "code",
      "metadata": {
        "id": "lsSNqwG_rcJu"
      },
      "source": [
        "# 入力値を表すデータ\n",
        "#　入力X、入力Y\n",
        "learn_data = [ [0,0],[1,0],[0,1],[1,1] ]\n",
        "# (XとYのand)結果\n",
        "learn_label = [0,0,0,1]"
      ],
      "execution_count": 5,
      "outputs": []
    },
    {
      "cell_type": "markdown",
      "metadata": {
        "id": "dL-jvTkttVuT"
      },
      "source": [
        "###　アルゴリズムのインスタンスを作成"
      ]
    },
    {
      "cell_type": "code",
      "metadata": {
        "id": "NYdJcFZGtUAx"
      },
      "source": [
        "clf = LinearSVC()"
      ],
      "execution_count": 6,
      "outputs": []
    },
    {
      "cell_type": "markdown",
      "metadata": {
        "id": "IC7xhflqtnHO"
      },
      "source": [
        "モデルに学習させる"
      ]
    },
    {
      "cell_type": "code",
      "metadata": {
        "id": "mERrzKictkmC",
        "outputId": "29e2d453-4c04-4bcf-bee4-0ca74c89fd63",
        "colab": {
          "base_uri": "https://localhost:8080/",
          "height": 85
        }
      },
      "source": [
        "clf.fit(learn_data, learn_label)"
      ],
      "execution_count": 7,
      "outputs": [
        {
          "output_type": "execute_result",
          "data": {
            "text/plain": [
              "LinearSVC(C=1.0, class_weight=None, dual=True, fit_intercept=True,\n",
              "          intercept_scaling=1, loss='squared_hinge', max_iter=1000,\n",
              "          multi_class='ovr', penalty='l2', random_state=None, tol=0.0001,\n",
              "          verbose=0)"
            ]
          },
          "metadata": {
            "tags": []
          },
          "execution_count": 7
        }
      ]
    },
    {
      "cell_type": "markdown",
      "metadata": {
        "id": "t-vUNgiuubHK"
      },
      "source": [
        "### モデルがちゃんと学習できたか、テストデータで、予測させてみる"
      ]
    },
    {
      "cell_type": "code",
      "metadata": {
        "id": "AwYWa16quj0L",
        "outputId": "46f307a4-6077-4064-b1cc-d44db0c7a32a",
        "colab": {
          "base_uri": "https://localhost:8080/",
          "height": 68
        }
      },
      "source": [
        "#　予測用のテストデータ（検証データ）を作る\n",
        "test_data = [ [0,0],[1,0],[0,1],[1,1]] \n",
        "# モデルにテストデータを回答させる（予測）　予測のメソッドはpredict\n",
        "test_label = clf.predict(test_data)\n",
        "print(test_label)\n",
        "print(test_data, \"の予測結果\" ,test_label)\n",
        "#　結果の制度を表示させる\n",
        "print(\"正解率 = \",accuracy_score([0,0,0,1], test_label))"
      ],
      "execution_count": 8,
      "outputs": [
        {
          "output_type": "stream",
          "text": [
            "[0 0 0 1]\n",
            "[[0, 0], [1, 0], [0, 1], [1, 1]] の予測結果 [0 0 0 1]\n",
            "正解率 =  1.0\n"
          ],
          "name": "stdout"
        }
      ]
    },
    {
      "cell_type": "markdown",
      "metadata": {
        "id": "xjX3wQ6BYwy6"
      },
      "source": [
        "### XOR演算を実装する"
      ]
    },
    {
      "cell_type": "code",
      "metadata": {
        "id": "N59CBiBYY1Jx"
      },
      "source": [
        "# XOR演算を学習するためのデータを用意する\n",
        "# X,Y の順\n",
        "learn_data = [[0,0],[1,0],[0,1],[1,1]]\n",
        "# X xor Y の結果正解データ（学習ラベル）\n",
        "learn_label = [0,1,1,0]"
      ],
      "execution_count": 9,
      "outputs": []
    },
    {
      "cell_type": "code",
      "metadata": {
        "id": "IMfHh7lxZY1Y",
        "outputId": "670b3bba-dba6-4c2c-bba2-9066fcc82ce0",
        "colab": {
          "base_uri": "https://localhost:8080/",
          "height": 85
        }
      },
      "source": [
        "# 学習モデルのインスタンスを作る\n",
        "clf = LinearSVC()\n",
        "# 学習させる\n",
        "clf.fit(learn_data,learn_label)"
      ],
      "execution_count": 10,
      "outputs": [
        {
          "output_type": "execute_result",
          "data": {
            "text/plain": [
              "LinearSVC(C=1.0, class_weight=None, dual=True, fit_intercept=True,\n",
              "          intercept_scaling=1, loss='squared_hinge', max_iter=1000,\n",
              "          multi_class='ovr', penalty='l2', random_state=None, tol=0.0001,\n",
              "          verbose=0)"
            ]
          },
          "metadata": {
            "tags": []
          },
          "execution_count": 10
        }
      ]
    },
    {
      "cell_type": "code",
      "metadata": {
        "id": "Tjl-IQD5ZtcK"
      },
      "source": [
        "# 学習モデルに推論させる\n",
        "test_data = [[0,0],[1,0],[0,1],[1,1]]\n",
        "test_label = clf.predict(test_data)"
      ],
      "execution_count": 11,
      "outputs": []
    },
    {
      "cell_type": "code",
      "metadata": {
        "id": "RocJ-afCachO",
        "outputId": "e836fd69-b2e5-4a60-b10b-7c82780fdba8",
        "colab": {
          "base_uri": "https://localhost:8080/",
          "height": 51
        }
      },
      "source": [
        "# 結果を検証する\n",
        "print(test_data,\"の予測結果\",test_label)\n",
        "print(\"正解率 = \" , accuracy_score([ 0 , 1 , 1 , 0 ], test_label))"
      ],
      "execution_count": 12,
      "outputs": [
        {
          "output_type": "stream",
          "text": [
            "[[0, 0], [1, 0], [0, 1], [1, 1]] の予測結果 [0 0 0 0]\n",
            "正解率 =  0.5\n"
          ],
          "name": "stdout"
        }
      ]
    },
    {
      "cell_type": "markdown",
      "metadata": {
        "id": "AeU2Phfga5ZY"
      },
      "source": [
        "### K近傍法でXOR演算を実装する"
      ]
    },
    {
      "cell_type": "code",
      "metadata": {
        "id": "Gnd5LDQFawAQ"
      },
      "source": [
        "# K近傍法のアルゴリズムのクラスをimport\n",
        "from sklearn.neighbors import KNeighborsClassifier"
      ],
      "execution_count": 13,
      "outputs": []
    },
    {
      "cell_type": "code",
      "metadata": {
        "id": "QSJ4wBHObCbP"
      },
      "source": [
        "# 学習モデルの変数clfをK近傍法アルゴリズムのインスタンスで上書き\n",
        "clf = KNeighborsClassifier(n_neighbors=1)"
      ],
      "execution_count": 14,
      "outputs": []
    },
    {
      "cell_type": "code",
      "metadata": {
        "id": "UuVi9nHkbEhY",
        "outputId": "aff6d88c-a6c7-430c-d6d8-acab02c3b31d",
        "colab": {
          "base_uri": "https://localhost:8080/",
          "height": 68
        }
      },
      "source": [
        "# 学習用入力データ(learn_data)と結果用正解データ(learn_label)を使って\n",
        "clf.fit(learn_data,learn_label)"
      ],
      "execution_count": 15,
      "outputs": [
        {
          "output_type": "execute_result",
          "data": {
            "text/plain": [
              "KNeighborsClassifier(algorithm='auto', leaf_size=30, metric='minkowski',\n",
              "                     metric_params=None, n_jobs=None, n_neighbors=1, p=2,\n",
              "                     weights='uniform')"
            ]
          },
          "metadata": {
            "tags": []
          },
          "execution_count": 15
        }
      ]
    },
    {
      "cell_type": "markdown",
      "metadata": {
        "id": "8Ou9a2VWbILj"
      },
      "source": [
        "### テスト用検証データで推論する"
      ]
    },
    {
      "cell_type": "code",
      "metadata": {
        "id": "3q1hCTtXbGso",
        "outputId": "6cf5ad39-75b0-4b9f-c2bb-fc8f605aa5fb",
        "colab": {
          "base_uri": "https://localhost:8080/",
          "height": 51
        }
      },
      "source": [
        "# テスト用検証データ（test_data）と答え合わせ用の正解データ([0,1,1,0])\n",
        "test_label = clf.predict(test_data)\n",
        "\n",
        "# 推論結果の評価\n",
        "print(test_data, \"の予測(推論)結果\" , test_label)\n",
        "print(\"正解率 = \", accuracy_score( [0,1,1,0], test_label))"
      ],
      "execution_count": 16,
      "outputs": [
        {
          "output_type": "stream",
          "text": [
            "[[0, 0], [1, 0], [0, 1], [1, 1]] の予測(推論)結果 [0 1 1 0]\n",
            "正解率 =  1.0\n"
          ],
          "name": "stdout"
        }
      ]
    },
    {
      "cell_type": "code",
      "metadata": {
        "id": "ieWEkmrIbPti"
      },
      "source": [
        ""
      ],
      "execution_count": null,
      "outputs": []
    }
  ]
}