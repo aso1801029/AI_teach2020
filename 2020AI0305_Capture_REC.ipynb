{
  "nbformat": 4,
  "nbformat_minor": 0,
  "metadata": {
    "colab": {
      "name": "2020AI0305-Capture-REC.ipynb",
      "provenance": [],
      "authorship_tag": "ABX9TyODwaGGr7XhQaalu9H+oFt/",
      "include_colab_link": true
    },
    "kernelspec": {
      "name": "python3",
      "display_name": "Python 3"
    }
  },
  "cells": [
    {
      "cell_type": "markdown",
      "metadata": {
        "id": "view-in-github",
        "colab_type": "text"
      },
      "source": [
        "<a href=\"https://colab.research.google.com/github/aso1801029/AI_teach2020/blob/master/2020AI0305_Capture_REC.ipynb\" target=\"_parent\"><img src=\"https://colab.research.google.com/assets/colab-badge.svg\" alt=\"Open In Colab\"/></a>"
      ]
    },
    {
      "cell_type": "markdown",
      "metadata": {
        "id": "qCan-Br6jLE2"
      },
      "source": [
        "# カメラや動画ファイルからのキャプチャ内容を加工して録画する"
      ]
    },
    {
      "cell_type": "code",
      "metadata": {
        "id": "bRVl2eoliI7U"
      },
      "source": [
        "# ライブラリのimport\n",
        "import cv2, os\n",
        "import urllib.request as req"
      ],
      "execution_count": 1,
      "outputs": []
    },
    {
      "cell_type": "code",
      "metadata": {
        "colab": {
          "base_uri": "https://localhost:8080/"
        },
        "id": "e9_q3ELujPZo",
        "outputId": "7ebbee7a-cb57-41cf-a890-09b881b8ad8e"
      },
      "source": [
        "url = \"https://github.com/masatokg/sample_photo/raw/master/fish.mp4\"\n",
        "save_file = \"fish.mp4\"\n",
        "req.urlretrieve(url, save_file)"
      ],
      "execution_count": 2,
      "outputs": [
        {
          "output_type": "execute_result",
          "data": {
            "text/plain": [
              "('fish.mp4', <http.client.HTTPMessage at 0x7f84864109b0>)"
            ]
          },
          "metadata": {
            "tags": []
          },
          "execution_count": 2
        }
      ]
    },
    {
      "cell_type": "code",
      "metadata": {
        "id": "KD7ZyyA-jcLv"
      },
      "source": [
        "# 保存ファイル名\n",
        "out_file = \"out.mp4\"\n",
        "# キャプチャソースを指定してキャプチャインスタンスを取得\n",
        "# webカメラの場合：0、動画ファイルの場合：ファイルパス\n",
        "cap = cv2.VideoCapture(save_file)\n",
        "# 動画フォーマット(mp4ビデオ)を指定するインスタンスを取得\n",
        "fourcc = cv2.VideoWriter_fourcc('M', 'P', '4', 'V')\n",
        "# フレームレート(fps)を指定\n",
        "fps = 30.0"
      ],
      "execution_count": 4,
      "outputs": []
    },
    {
      "cell_type": "markdown",
      "metadata": {
        "id": "DvyHY3mOjZz5"
      },
      "source": [
        "### キャプチャしたフレームの加工処理用関数\n"
      ]
    },
    {
      "cell_type": "code",
      "metadata": {
        "id": "OSFPck1OjjuR"
      },
      "source": [
        "# フレーム引数で受け取り、加工して戻り値で返す\n",
        "def process_img( frame ):\n",
        "  # 加工処理\n",
        "  # BGRのうち、BGを0にしてRの光だけにする\n",
        "  frame[ :, :, 0 ] = 0 #B\n",
        "  frame[ :, :, 1 ] = 0 #G\n",
        "\n",
        "  return frame"
      ],
      "execution_count": 5,
      "outputs": []
    },
    {
      "cell_type": "markdown",
      "metadata": {
        "id": "Ab2rM-o8jP5B"
      },
      "source": [
        "### フレームを受け取り、そのフレームサイズでキャプチャ画像を録画数流ためのレコーダーを定義して戻り値で返す関数"
      ]
    },
    {
      "cell_type": "code",
      "metadata": {
        "id": "2-pYpNymjrcR"
      },
      "source": [
        "def open_recorder( frame ):\n",
        "  h = len( frame ) # フレームの高さ(Numpy2次元配列の行数)\n",
        "  w = len( frame[0] ) # フレームの幅(Numpy2次元配列の列数)\n",
        "  size = (w, h) # フレーム画像サイズをタプル変数で定義\n",
        "  # レコーダーのインスタンスを生成\n",
        "  recorder = cv2.VideoWriter(out_file, fourcc, fps, size, isColor=True)\n",
        "  return recorder"
      ],
      "execution_count": 6,
      "outputs": []
    },
    {
      "cell_type": "markdown",
      "metadata": {
        "id": "UPRtD4ohjyPK"
      },
      "source": [
        "### キャプチャの読込処理を実行"
      ]
    },
    {
      "cell_type": "code",
      "metadata": {
        "colab": {
          "base_uri": "https://localhost:8080/"
        },
        "id": "hn07xOmzjvaH",
        "outputId": "f9a42048-33c1-48b3-8456-04c6fdf84688"
      },
      "source": [
        "# 1フレーム読み込み\n",
        "is_ok, frame = cap.read()\n",
        "# 成功なら、そのフレームを録画するためのレコーダーを開く\n",
        "if is_ok:\n",
        "  print(\"1 frame has read.\")\n",
        "  # そのフレームを録画するレコーダーを開く自作関数\n",
        "  recorder = open_recorder( frame )\n",
        "  # 読み込みフレームがなくなるまで無限ループ\n",
        "  while True:\n",
        "    # 読み込んだフレームを加工する自作関数\n",
        "    frame = process_img( frame )\n",
        "    # 加工した1フレームをレコーダーに書き込む\n",
        "    recorder.write(frame)\n",
        "    # 次の1フレームを読み込む\n",
        "    is_ok, frame = cap.read()\n",
        "    # 読み込むフレームがなかったら、無限ループをbreak\n",
        "    if is_ok is not True:\n",
        "      break\n",
        "    # endif\n",
        "  # endwhile\n",
        "else:\n",
        "  print(\"there is no  frame.\")\n",
        "#endif"
      ],
      "execution_count": 7,
      "outputs": [
        {
          "output_type": "stream",
          "text": [
            "1 frame has read.\n"
          ],
          "name": "stdout"
        }
      ]
    },
    {
      "cell_type": "markdown",
      "metadata": {
        "id": "32dROtpQj6ud"
      },
      "source": [
        "### 後処理とダウンロード"
      ]
    },
    {
      "cell_type": "code",
      "metadata": {
        "colab": {
          "base_uri": "https://localhost:8080/",
          "height": 34
        },
        "id": "CTJ2th48j2FY",
        "outputId": "4a161f66-2988-4b0a-dfcc-7bc4edf910d4"
      },
      "source": [
        "# レコーダーの開放\n",
        "recorder.release()\n",
        "# キャプチャの開放\n",
        "cap.release()\n",
        "#メッセージ\n",
        "print(\"capture and recording end.\")\n",
        "# 出力mp4ファイルのダウンロード処理\n",
        "from google.colab import files\n",
        "files.download(out_file)"
      ],
      "execution_count": 8,
      "outputs": [
        {
          "output_type": "stream",
          "text": [
            "capture and recording end.\n"
          ],
          "name": "stdout"
        },
        {
          "output_type": "display_data",
          "data": {
            "application/javascript": [
              "\n",
              "    async function download(id, filename, size) {\n",
              "      if (!google.colab.kernel.accessAllowed) {\n",
              "        return;\n",
              "      }\n",
              "      const div = document.createElement('div');\n",
              "      const label = document.createElement('label');\n",
              "      label.textContent = `Downloading \"${filename}\": `;\n",
              "      div.appendChild(label);\n",
              "      const progress = document.createElement('progress');\n",
              "      progress.max = size;\n",
              "      div.appendChild(progress);\n",
              "      document.body.appendChild(div);\n",
              "\n",
              "      const buffers = [];\n",
              "      let downloaded = 0;\n",
              "\n",
              "      const channel = await google.colab.kernel.comms.open(id);\n",
              "      // Send a message to notify the kernel that we're ready.\n",
              "      channel.send({})\n",
              "\n",
              "      for await (const message of channel.messages) {\n",
              "        // Send a message to notify the kernel that we're ready.\n",
              "        channel.send({})\n",
              "        if (message.buffers) {\n",
              "          for (const buffer of message.buffers) {\n",
              "            buffers.push(buffer);\n",
              "            downloaded += buffer.byteLength;\n",
              "            progress.value = downloaded;\n",
              "          }\n",
              "        }\n",
              "      }\n",
              "      const blob = new Blob(buffers, {type: 'application/binary'});\n",
              "      const a = document.createElement('a');\n",
              "      a.href = window.URL.createObjectURL(blob);\n",
              "      a.download = filename;\n",
              "      div.appendChild(a);\n",
              "      a.click();\n",
              "      div.remove();\n",
              "    }\n",
              "  "
            ],
            "text/plain": [
              "<IPython.core.display.Javascript object>"
            ]
          },
          "metadata": {
            "tags": []
          }
        },
        {
          "output_type": "display_data",
          "data": {
            "application/javascript": [
              "download(\"download_9ac86207-3e3b-41de-aaee-37e43955630b\", \"out.mp4\", 11128507)"
            ],
            "text/plain": [
              "<IPython.core.display.Javascript object>"
            ]
          },
          "metadata": {
            "tags": []
          }
        }
      ]
    },
    {
      "cell_type": "code",
      "metadata": {
        "id": "2JtdoobBj-l7"
      },
      "source": [
        ""
      ],
      "execution_count": null,
      "outputs": []
    }
  ]
}